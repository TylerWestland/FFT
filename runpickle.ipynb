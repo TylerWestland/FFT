{
 "cells": [
  {
   "cell_type": "code",
   "execution_count": null,
   "id": "c121fe53",
   "metadata": {},
   "outputs": [],
   "source": [
    "import pickle\n",
    "import numpy as np\n",
    "from IPython.display import Audio\n",
    "\n",
    "with open('FFT.pickle', 'rb') as data:\n",
    "    dataset = pickle.load(data)\n",
    "\n",
    "signal = np.fft.ifft(dataset)\n",
    "display(Audio(signal.T, rate=48000))"
   ]
  }
 ],
 "metadata": {
  "kernelspec": {
   "display_name": "Python 3 (ipykernel)",
   "language": "python",
   "name": "python3"
  },
  "language_info": {
   "codemirror_mode": {
    "name": "ipython",
    "version": 3
   },
   "file_extension": ".py",
   "mimetype": "text/x-python",
   "name": "python",
   "nbconvert_exporter": "python",
   "pygments_lexer": "ipython3",
   "version": "3.7.9"
  }
 },
 "nbformat": 4,
 "nbformat_minor": 5
}
